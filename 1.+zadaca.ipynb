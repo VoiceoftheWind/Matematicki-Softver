{
 "cells": [
  {
   "cell_type": "markdown",
   "metadata": {},
   "source": [
    "**Predgovor:**\n",
    "\n",
    "Moram istaknuti da usprkos lijepim zeljama, ova ideja \"kontinuiranog pracenja\" je nezgodna za ljude s ozbiljnim poslom.\n",
    "\n",
    "endRant();\n",
    "\n",
    "No u svakom zlu, neceg dobrog. Ova recenica mi nikad nije imala smisla ali je pogodan segue u to da ce se ova zadaca baviti necime sto mi treba za posao. Za videoigru na kojoj trenutno radim kao dizajner su mi od velike vaznosti grafovi i njihova svojsta pa cemo se s time malo poigrati.\n",
    "\n",
    "So, without further ado...\n",
    "\n",
    "----\n",
    "\n",
    "**Graph Theory**\n",
    "\n"
   ]
  },
  {
   "cell_type": "code",
   "execution_count": null,
   "metadata": {
    "collapsed": true
   },
   "outputs": [],
   "source": [
    "import networkx as nx\n",
    "G=nx.Graph()\n",
    "G.add_nodes_from([1,3])\n",
    "G.add_edge(1,2)\n",
    "G.add_edge(2,3)\n",
    "G.add_edge(1,3)\n",
    "G.nodes()\n",
    "G.edges()\n",
    "G.neighbors(1)"
   ]
  }
 ],
 "metadata": {
  "kernelspec": {
   "display_name": "Python 3",
   "language": "python",
   "name": "python3"
  },
  "language_info": {
   "codemirror_mode": {
    "name": "ipython",
    "version": 3
   },
   "file_extension": ".py",
   "mimetype": "text/x-python",
   "name": "python",
   "nbconvert_exporter": "python",
   "pygments_lexer": "ipython3",
   "version": "3.6.0"
  }
 },
 "nbformat": 4,
 "nbformat_minor": 2
}
